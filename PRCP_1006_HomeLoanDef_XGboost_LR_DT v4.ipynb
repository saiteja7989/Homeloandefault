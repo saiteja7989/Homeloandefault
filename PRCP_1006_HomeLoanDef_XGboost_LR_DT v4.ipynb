{
 "cells": [
  {
   "cell_type": "code",
   "execution_count": null,
   "metadata": {
    "id": "gb_3tS2ptg4t"
   },
   "outputs": [],
   "source": [
    "# Project team ID : PTID-CDS-OCT-24-2145\n",
    "# Project: PRCP-1006-HomeLoanDef\n",
    "# Project Members : Teja and Iqbal"
   ]
  },
  {
   "cell_type": "markdown",
   "metadata": {
    "id": "QVR2ulvuBoTz"
   },
   "source": [
    "**Importing Necessary Libraries**"
   ]
  },
  {
   "cell_type": "code",
   "execution_count": null,
   "metadata": {
    "id": "4ODocy_H7qNN"
   },
   "outputs": [],
   "source": [
    "import pandas as pd\n",
    "import numpy as np\n",
    "import matplotlib.pyplot as plt\n",
    "import seaborn as sns\n",
    "from sklearn.model_selection import train_test_split, GridSearchCV\n",
    "from sklearn.preprocessing import StandardScaler\n",
    "from sklearn.metrics import accuracy_score, precision_score, recall_score, f1_score,classification_report, roc_auc_score, confusion_matrix\n",
    "from sklearn.linear_model import LogisticRegression\n",
    "from sklearn.tree import DecisionTreeClassifier\n",
    "from sklearn.ensemble import RandomForestClassifier, GradientBoostingClassifier\n",
    "from xgboost import XGBClassifier\n",
    "import gc\n",
    "import warnings\n",
    "warnings.filterwarnings('ignore')\n",
    "\n"
   ]
  },
  {
   "cell_type": "markdown",
   "metadata": {
    "id": "okFKZNL5EVxQ"
   },
   "source": [
    "**Loading Datasets**"
   ]
  },
  {
   "cell_type": "code",
   "execution_count": null,
   "metadata": {
    "id": "okHtf-uPBewA"
   },
   "outputs": [],
   "source": [
    "application_train=pd.read_csv(r\"C:\\Users\\Teja\\Downloads\\PRCP-1006-HomeLoanDef\\Data\\application_train.csv\")\n",
    "bureau=pd.read_csv(r\"C:\\Users\\Teja\\Downloads\\PRCP-1006-HomeLoanDef\\Data\\bureau.csv\")\n",
    "bureau_balance=pd.read_csv(r\"C:\\Users\\Teja\\Downloads\\PRCP-1006-HomeLoanDef\\Data\\bureau_balance.csv\")\n",
    "credit_card_balance=pd.read_csv(r\"C:\\Users\\Teja\\Downloads\\PRCP-1006-HomeLoanDef\\Data\\credit_card_balance.csv\")\n",
    "installments_payments=pd.read_csv(r\"C:\\Users\\Teja\\Downloads\\PRCP-1006-HomeLoanDef\\Data\\installments_payments.csv\")\n",
    "POS_CASH_balance=pd.read_csv(r\"C:\\Users\\Teja\\Downloads\\PRCP-1006-HomeLoanDef\\Data\\POS_CASH_balance.csv\")\n",
    "previous_application=pd.read_csv(r\"C:\\Users\\Teja\\Downloads\\PRCP-1006-HomeLoanDef\\Data\\previous_application.csv\")"
   ]
  },
  {
   "cell_type": "code",
   "execution_count": null,
   "metadata": {
    "colab": {
     "base_uri": "https://localhost:8080/",
     "height": 272
    },
    "id": "RqpXw7Ahsjvb",
    "outputId": "f74cb0b4-c01e-4afc-c96b-7fdefc1e5ab9"
   },
   "outputs": [],
   "source": [
    "application_train.head()"
   ]
  },
  {
   "cell_type": "markdown",
   "metadata": {
    "id": "JWrOWv4JEp-j"
   },
   "source": [
    "** Defining Function of insection of Initial data **\n",
    "\n",
    "\n",
    "\n",
    "\n",
    "---\n",
    "\n"
   ]
  },
  {
   "cell_type": "code",
   "execution_count": null,
   "metadata": {
    "id": "r4ny43awEnaV"
   },
   "outputs": [],
   "source": [
    "import matplotlib.pyplot as plt\n",
    "import seaborn as sns\n",
    "\n",
    "def inspect_data(df, df_name=\"Dataset\"):\n",
    "    print(f\"\\n------{df_name} INITIAL ANALYSIS------\\n\")\n",
    "\n",
    "    # Shape\n",
    "    print(f\"Shape of {df_name}: {df.shape}\")\n",
    "\n",
    "    # Data types and basic info\n",
    "    print(f\"\\nData types and basic info for {df_name}:\")\n",
    "    df.info()\n",
    "\n",
    "    # Missing values\n",
    "    print(f\"\\nMissing values in {df_name}:\")\n",
    "    missing_values = df.isnull().sum()\n",
    "    missing_values = missing_values[missing_values > 0]\n",
    "    if len(missing_values) > 0:\n",
    "        print(\"Columns with missing values:\")\n",
    "        print(missing_values)\n",
    "    else:\n",
    "        print(f\"{df_name} has no missing values\")\n",
    "\n",
    "    # Descriptive analysis\n",
    "    print(f\"\\nDescriptive analysis of {df_name}:\")\n",
    "    print(df.describe(include='all'))\n",
    "\n",
    "    # Data distributions\n",
    "    print(f\"\\nDistribution of numeric features in {df_name}:\")\n",
    "    numeric_columns = df.select_dtypes(include=['number']).columns\n",
    "    if not numeric_columns.empty:\n",
    "        print(\"Skewness of numeric features:\")\n",
    "        print(df[numeric_columns].skew())\n",
    "\n",
    "        # Histograms for numeric features\n",
    "        df[numeric_columns].hist(figsize=(15, 10), bins=30)\n",
    "        plt.suptitle(f\"Histograms for Numeric Features in {df_name}\", fontsize=16)\n",
    "        plt.show()\n",
    "\n",
    "        # Boxplots for numeric features\n",
    "        for col in numeric_columns:\n",
    "            plt.figure(figsize=(8, 4))\n",
    "            sns.boxplot(x=df[col])\n",
    "            plt.title(f\"Boxplot for {col} in {df_name}\")\n",
    "            plt.show()\n",
    "    else:\n",
    "        print(f\"{df_name} has no numeric features to analyze for distribution.\")\n",
    "\n",
    "    # Value counts for categorical features\n",
    "    print(f\"\\nValue counts for categorical features in {df_name}:\")\n",
    "    categorical_columns = df.select_dtypes(include=['object', 'category']).columns\n",
    "    if not categorical_columns.empty:\n",
    "        for col in categorical_columns:\n",
    "            print(f\"\\nValue counts for {col}:\")\n",
    "            print(df[col].value_counts())\n",
    "\n",
    "            # Bar plot for categorical features\n",
    "            plt.figure(figsize=(10, 6))\n",
    "            df[col].value_counts().plot(kind='bar', color='skyblue', edgecolor='black')\n",
    "            plt.title(f\"Bar Plot for {col} in {df_name}\")\n",
    "            plt.xlabel(col)\n",
    "            plt.ylabel(\"Count\")\n",
    "            plt.show()\n",
    "    else:\n",
    "        print(f\"{df_name} has no categorical features to analyze.\")\n",
    "\n",
    "    # Correlation analysis\n",
    "    print(f\"\\nCorrelation analysis for numeric features in {df_name}:\")\n",
    "    if not numeric_columns.empty:\n",
    "        correlation_matrix = df[numeric_columns].corr()\n",
    "        print(correlation_matrix)\n",
    "\n",
    "        # Heatmap for correlation matrix\n",
    "        plt.figure(figsize=(12, 8))\n",
    "        sns.heatmap(correlation_matrix, annot=True, fmt=\".2f\", cmap=\"coolwarm\", square=True)\n",
    "        plt.title(f\"Correlation Heatmap for {df_name}\")\n",
    "        plt.show()\n",
    "    else:\n",
    "        print(f\"{df_name} has no numeric features to analyze for correlations.\")\n",
    "\n",
    "    # check for unique values per column\n",
    "    print(f\"\\nUnique values per column in {df_name}:\")\n",
    "    print(df.nunique())\n"
   ]
  },
  {
   "cell_type": "code",
   "execution_count": null,
   "metadata": {
    "id": "NJmgo0ogdZIw"
   },
   "outputs": [],
   "source": []
  },
  {
   "cell_type": "markdown",
   "metadata": {
    "id": "-fR0qnyLZmFO"
   },
   "source": [
    "Analysing the data"
   ]
  },
  {
   "cell_type": "code",
   "execution_count": null,
   "metadata": {
    "colab": {
     "base_uri": "https://localhost:8080/",
     "height": 1000
    },
    "id": "Q8hA1Uv8c3K2",
    "outputId": "a74b9ec9-12b2-44c0-8391-cd2fe8c4079e"
   },
   "outputs": [],
   "source": [
    "#application_train.head()\n",
    "inspect_data(application_train,\" Application Data\")"
   ]
  },
  {
   "cell_type": "markdown",
   "metadata": {
    "id": "Vu3u_q2wufkm"
   },
   "source": [
    "EDA of application_train\n",
    "-------------------------\n",
    "1) Rows = 307511\n",
    "2) Columns= 122\n",
    "3) dtypes: float64(65), int64(41), object(16)\n",
    "4) Skewness of significant columns\n",
    "\t->TARGET=3.078159 -> highy positive skewed"
   ]
  },
  {
   "cell_type": "code",
   "execution_count": null,
   "metadata": {
    "colab": {
     "base_uri": "https://localhost:8080/",
     "height": 1000
    },
    "id": "e0C8OqOT0wdJ",
    "outputId": "0de835e4-5333-4d06-9359-969548e23f21"
   },
   "outputs": [],
   "source": [
    "inspect_data(bureau,\" Bureau Data\")"
   ]
  },
  {
   "cell_type": "markdown",
   "metadata": {
    "id": "vc7rSRkIv3y5"
   },
   "source": [
    "EDA of bureau\n",
    "-------------------------\n",
    "1) Rows = 1716428\n",
    "2) Columns= 17\n",
    "3) dtypes: float64(8), int64(6), object(3)\n",
    "4) Skewness of significant columns\n",
    "\tSK_ID_CURR->0.001063 (Nearly symmentric)\n",
    "\tSK_ID_BUREAU-> -0.007498 (Nearly symmentric)"
   ]
  },
  {
   "cell_type": "code",
   "execution_count": null,
   "metadata": {
    "colab": {
     "base_uri": "https://localhost:8080/",
     "height": 1000
    },
    "id": "LB_Y7jHg0wtM",
    "outputId": "54dca5f2-b78f-4739-b19a-c4ebc5790a75"
   },
   "outputs": [],
   "source": [
    "inspect_data(bureau_balance,\" Bureau balance Data\")\n"
   ]
  },
  {
   "cell_type": "markdown",
   "metadata": {
    "id": "N5g9NLfjxT-T"
   },
   "source": [
    "EDA of Bureau balance Data\n",
    "-------------------------\n",
    "1) Rows = 27299925\n",
    "2) Columns= 3\n",
    "3) dtypes: int64(2), object(1)\n",
    "4) Skewness of significant columns\n",
    "\tSK_ID_CURR->-0.372188(Nearly symmentric)"
   ]
  },
  {
   "cell_type": "code",
   "execution_count": null,
   "metadata": {
    "colab": {
     "base_uri": "https://localhost:8080/",
     "height": 1000
    },
    "id": "hoFFdKT-0w19",
    "outputId": "b981d12f-6790-4c9b-9dd7-6b7cd3667465"
   },
   "outputs": [],
   "source": [
    "inspect_data(credit_card_balance,\" Credit card balance data\")\n"
   ]
  },
  {
   "cell_type": "code",
   "execution_count": null,
   "metadata": {
    "colab": {
     "base_uri": "https://localhost:8080/",
     "height": 1000
    },
    "id": "WXZMLoQL0w_B",
    "outputId": "492ba279-a974-4956-8bef-16cdcaa8570f"
   },
   "outputs": [],
   "source": [
    "inspect_data(installments_payments,\" Installments payments data\")\n"
   ]
  },
  {
   "cell_type": "code",
   "execution_count": null,
   "metadata": {
    "colab": {
     "base_uri": "https://localhost:8080/",
     "height": 1000
    },
    "id": "VmEucsGD0xIy",
    "outputId": "b7b02c66-4bba-487c-a112-b771a115d5c0"
   },
   "outputs": [],
   "source": [
    "inspect_data(POS_CASH_balance,\" POS cash balance data\")\n"
   ]
  },
  {
   "cell_type": "code",
   "execution_count": null,
   "metadata": {
    "colab": {
     "base_uri": "https://localhost:8080/",
     "height": 1000
    },
    "id": "01BuI4q2078I",
    "outputId": "d02df7b3-7288-4119-8ddb-adbb0315db1c"
   },
   "outputs": [],
   "source": [
    "inspect_data(previous_application,\" Previous application data\")"
   ]
  },
  {
   "cell_type": "code",
   "execution_count": null,
   "metadata": {
    "id": "zQuvx9IRgzSc"
   },
   "outputs": [],
   "source": [
    "target_counts=application_train.TARGET.value_counts()/len(application_train)*100"
   ]
  },
  {
   "cell_type": "code",
   "execution_count": null,
   "metadata": {
    "id": "4-kUViYwgzSc",
    "outputId": "8e073f83-6eab-4fa6-93f1-7eae81b85815"
   },
   "outputs": [],
   "source": [
    "plt.figure(figsize=(8, 6))\n",
    "plt.pie(target_counts,autopct='%1.1f%%',labels=[\"NOT DEFAULTER (0)\", \"DEFAULTER (1)\"],colors=['blue','orange'],startangle=90,explode=[0, 0.1])\n",
    "plt.title(\"Distribution of Target Variable\")\n",
    "plt.legend(title=\"Categories\",alignment='right',loc='upper left')\n",
    "plt.show()\n",
    "                      # HERE THE DATA IS  IMBALANCED (91.9%(LOAN REPAYED-0)AND 8.1%(LOAN NOT REPAYED-1)AND WE NEED TO HANDLE THIS PROBLEM )"
   ]
  },
  {
   "cell_type": "markdown",
   "metadata": {
    "id": "f6pej5h7-St7"
   },
   "source": [
    "TAGET column in application_train Proportion\n",
    "TARGET\n",
    "\n",
    "0    282686(91.9%)\n",
    "\n",
    "1     24825(8.1%)\n",
    "\n",
    "->There is high imbalance of TARGET feature. Machine learning models\n",
    "may become biased toward predicting the majority class (0),\n",
    "leading to poor performance on the minority class.\n",
    "\n",
    "->Oversample the 0 values by using SMOTE"
   ]
  },
  {
   "cell_type": "code",
   "execution_count": null,
   "metadata": {
    "id": "ZTsdNtBqgzSc",
    "outputId": "f448136a-4fdf-4d70-be3d-01c3743ea491"
   },
   "outputs": [],
   "source": [
    "sns.histplot(application_train.AMT_INCOME_TOTAL,kde=True,bins=30)\n",
    "plt.xlabel(\"AMT_INCOME_TOTAL\")\n",
    "plt.ylabel('count of applicants')\n",
    "plt.show()"
   ]
  },
  {
   "cell_type": "code",
   "execution_count": null,
   "metadata": {
    "id": "rmFRYxeWgzSd"
   },
   "outputs": [],
   "source": [
    "# there is lot of skewness on the right side.\n",
    "# most of the data point are between 0 and 0.2 million"
   ]
  },
  {
   "cell_type": "code",
   "execution_count": null,
   "metadata": {
    "id": "0IWNdWW7gzSd"
   },
   "outputs": [],
   "source": [
    "pd.set_option('display.max_columns',None)"
   ]
  },
  {
   "cell_type": "code",
   "execution_count": null,
   "metadata": {
    "id": "m0CuzgALgzSd"
   },
   "outputs": [],
   "source": [
    "namecontract=application_train.NAME_CONTRACT_TYPE.value_counts()/len(application_train.NAME_CONTRACT_TYPE)*100"
   ]
  },
  {
   "cell_type": "code",
   "execution_count": null,
   "metadata": {
    "id": "mYzBCm3igzSd",
    "outputId": "c8d2655b-150b-4f8c-f14c-16c2c024c9ec"
   },
   "outputs": [],
   "source": [
    "plt.pie(namecontract,autopct='%1.1f%%',labels=[\"cash Loans\", \" Revolving loans\"],colors=[\"blue\", \"orange\"],startangle=90,explode=[0, 0.1])\n",
    "plt.legend(title='categories',alignment='right',loc='upper left')\n",
    "plt.title(\"Distribution of NAME_CONTRACT_TYPE\")\n",
    "plt.show()"
   ]
  },
  {
   "cell_type": "code",
   "execution_count": null,
   "metadata": {
    "id": "eodBmjvigzSj",
    "outputId": "00aaff8c-1b1a-487c-f0ba-2e0f8203f618"
   },
   "outputs": [],
   "source": [
    "sns.histplot(application_train.AMT_CREDIT,color='orange',bins=30)\n",
    "plt.title(\"Distribution of AMT_CREDIT\")\n",
    "plt.xlabel(\"AMT_CREDIT\")\n",
    "plt.ylabel(\"count of applicants\")\n",
    "plt.show()"
   ]
  },
  {
   "cell_type": "code",
   "execution_count": null,
   "metadata": {
    "id": "4NdSJyJCgzSj"
   },
   "outputs": [],
   "source": [
    "# The distribution is highly right skewed indicating outliers\n",
    "# The majority of applicants have creadit between 0.0 to 1.25 million\n",
    "# There is peak at 0.5 millioin which means most have this amount as most commoon applicants"
   ]
  },
  {
   "cell_type": "code",
   "execution_count": null,
   "metadata": {
    "id": "I3FBoYhvgzSj"
   },
   "outputs": [],
   "source": [
    "namesuit=application_train.NAME_TYPE_SUITE.value_counts()/len(application_train.NAME_TYPE_SUITE)*100"
   ]
  },
  {
   "cell_type": "code",
   "execution_count": null,
   "metadata": {
    "id": "H09gNdPfgzSk",
    "outputId": "104bef0a-7bf6-4c12-8145-f590c3b794be"
   },
   "outputs": [],
   "source": [
    "plt.figure(figsize=(8, 6))\n",
    "sns.barplot(namesuit,color='orange')\n",
    "plt.title(\"Distribution of NAME_TYPE_SUITE\")\n",
    "plt.xlabel(\"NAME_TYPE_SUITE\")\n",
    "plt.ylabel(\"count of applicants\")\n",
    "plt.show()"
   ]
  },
  {
   "cell_type": "code",
   "execution_count": null,
   "metadata": {
    "id": "6NdTMOY1gzSk"
   },
   "outputs": [],
   "source": [
    "# The unaccompanied has majority of loan applications\n",
    "# The family has the most number of applications after unaccompained\n",
    "# like wise with the spouse and partner"
   ]
  },
  {
   "cell_type": "code",
   "execution_count": null,
   "metadata": {
    "id": "jS_bP2i-gzSk",
    "outputId": "f1ef7567-3223-46b8-d6ab-fb194b9741bd"
   },
   "outputs": [],
   "source": [
    "plt.figure(figsize=(12, 6))\n",
    "\n",
    "sns.barplot(application_train.NAME_INCOME_TYPE.value_counts()/len(application_train.NAME_INCOME_TYPE)*100,color='red')\n",
    "plt.title(\"Distribution of NAME_INCOME_TYPE\")\n",
    "plt.xlabel(\"NAME_INCOME_TYPE\")\n",
    "plt.ylabel(\"count of applicants\")\n",
    "plt.show()"
   ]
  },
  {
   "cell_type": "code",
   "execution_count": null,
   "metadata": {
    "id": "tNeG9r3vgzSl"
   },
   "outputs": [],
   "source": [
    "# The number of people who are applied to loan are working professionals followed by commercial associate adn pensioner"
   ]
  },
  {
   "cell_type": "code",
   "execution_count": null,
   "metadata": {
    "id": "oQ80IpafgzSl",
    "outputId": "d102dc1f-9e32-4ad6-8b87-6b0c1d476645"
   },
   "outputs": [],
   "source": [
    "plt.figure(figsize=(12,6))\n",
    "sns.barplot(application_train.NAME_EDUCATION_TYPE.value_counts()/len(application_train.NAME_EDUCATION_TYPE)*100,color='purple')"
   ]
  },
  {
   "cell_type": "code",
   "execution_count": null,
   "metadata": {
    "id": "MxNb2g03gzSl"
   },
   "outputs": [],
   "source": [
    "# The people with secondary education are tend to apply more for loans than\n",
    "#  the higher education"
   ]
  },
  {
   "cell_type": "code",
   "execution_count": null,
   "metadata": {
    "id": "uFk6dxRPgzSm"
   },
   "outputs": [],
   "source": []
  },
  {
   "cell_type": "code",
   "execution_count": null,
   "metadata": {
    "id": "gZwfi423gzSm",
    "outputId": "7b96fa4e-dca6-45c3-cf7e-6e6d9ab9dc0e"
   },
   "outputs": [],
   "source": [
    "plt.figure(figsize=(12,6))\n",
    "sns.barplot(application_train.NAME_FAMILY_STATUS.value_counts()/len(application_train.NAME_FAMILY_STATUS)*100,color='green')\n",
    "plt.title(\"Distribution of NAME_FAMILY_STATUS\")\n",
    "plt.xlabel(\"NAME_FAMILY_STATUS\")\n",
    "plt.ylabel(\"count of applicants\")\n",
    "plt.show()"
   ]
  },
  {
   "cell_type": "code",
   "execution_count": null,
   "metadata": {
    "id": "BvgjigJqgzSr"
   },
   "outputs": [],
   "source": [
    "# there are maority of the married people who applied for loan and follwed by singles and rest of all are minority"
   ]
  },
  {
   "cell_type": "code",
   "execution_count": null,
   "metadata": {
    "id": "uIr1rny9gzSr"
   },
   "outputs": [],
   "source": []
  },
  {
   "cell_type": "code",
   "execution_count": null,
   "metadata": {
    "id": "p1izsUQkgzSs",
    "outputId": "fa1f2822-83ff-4cea-e2af-7fff09d29cae"
   },
   "outputs": [],
   "source": [
    "plt.figure(figsize=(12,6))\n",
    "sns.barplot(application_train.NAME_HOUSING_TYPE.value_counts()/len(application_train.NAME_HOUSING_TYPE)*100,color='blue')\n",
    "plt.title(\"Distribution of NAME_HOUSING_TYPE\")\n",
    "plt.xlabel(\"NAME_HOUSING_TYPE\")\n",
    "plt.ylabel(\"count of applicants\")\n",
    "plt.show()"
   ]
  },
  {
   "cell_type": "code",
   "execution_count": null,
   "metadata": {
    "id": "8FJWILCogzSs"
   },
   "outputs": [],
   "source": [
    "# most of the applicants are living in house apratments ans restof all are minority amount of people livving with parents,municipal apartments etc"
   ]
  },
  {
   "cell_type": "code",
   "execution_count": null,
   "metadata": {
    "id": "fRFUJjBLgzSs"
   },
   "outputs": [],
   "source": []
  },
  {
   "cell_type": "code",
   "execution_count": null,
   "metadata": {
    "id": "2q1PfZvmgzSs",
    "outputId": "63157994-b748-45dd-c8fc-0bf6ffbab7e6"
   },
   "outputs": [],
   "source": [
    "sns.histplot(application_train.DAYS_BIRTH/-365,color='orange',bins=50)\n",
    "plt.title(\"Distribution of DAYS_BIRTH\")\n",
    "plt.xlabel(\"DAYS_BIRTH\")\n",
    "plt.ylabel(\"count of applicants\")"
   ]
  },
  {
   "cell_type": "code",
   "execution_count": null,
   "metadata": {
    "id": "-nBGxYgagzSs"
   },
   "outputs": [],
   "source": [
    "# There are variety of age groups who are applied to loans however maximun of the applicants are in between in the age groups of mid 30's and 40's"
   ]
  },
  {
   "cell_type": "code",
   "execution_count": null,
   "metadata": {
    "id": "Y7ijG2ENgzSt"
   },
   "outputs": [],
   "source": []
  },
  {
   "cell_type": "code",
   "execution_count": null,
   "metadata": {
    "id": "eoiZir-TgzSt",
    "outputId": "0aa9d5fa-2252-41ce-e007-34c319b3d78a"
   },
   "outputs": [],
   "source": [
    "sns.histplot(application_train.DAYS_EMPLOYED/-365,color='orange',bins=50)"
   ]
  },
  {
   "cell_type": "code",
   "execution_count": null,
   "metadata": {
    "id": "VA7d8pPtgzSt"
   },
   "outputs": [],
   "source": [
    "# The data looks strange(we have -1000.66 years(-365243 days) of employment which is impossible) looks like there is data entry error"
   ]
  },
  {
   "cell_type": "code",
   "execution_count": null,
   "metadata": {
    "id": "UbinpqnugzSt"
   },
   "outputs": [],
   "source": []
  },
  {
   "cell_type": "code",
   "execution_count": null,
   "metadata": {
    "id": "DfDCcsKfgzSv",
    "outputId": "bc4e9919-f6ec-4c74-bdc2-52dafdd94bc9"
   },
   "outputs": [],
   "source": [
    "# Identify and flag errors in DAYS_EMPLOYED\n",
    "application_train['DAYS_EMPLOYED_ERROR'] = application_train['DAYS_EMPLOYED'] == 365243\n",
    "application_train['DAYS_EMPLOYED'].replace({365243: np.nan}, inplace=True)\n",
    "\n",
    "# Calculate years of employment\n",
    "application_train['DAYS_EMPLOYED'] = (application_train['DAYS_EMPLOYED']) /(-365)\n",
    "\n",
    "# Create the histogram\n",
    "sns.histplot(application_train.DAYS_EMPLOYED, bins=30)\n",
    "plt.xlabel('DAYS_EMPLOYED')\n",
    "plt.ylabel('Count of Applicants')\n",
    "plt.show()"
   ]
  },
  {
   "cell_type": "code",
   "execution_count": null,
   "metadata": {
    "id": "pz7SVshcgzSv"
   },
   "outputs": [],
   "source": [
    "# the people with less work experience less than 2 years"
   ]
  },
  {
   "cell_type": "markdown",
   "metadata": {
    "id": "c7piiCSWgzSw"
   },
   "source": [
    "# DATA CLEANING FUNTIONS"
   ]
  },
  {
   "cell_type": "code",
   "execution_count": null,
   "metadata": {
    "id": "FORrfmwwnUc5"
   },
   "outputs": [],
   "source": [
    "import numpy as np\n",
    "import pandas as pd\n",
    "from sklearn.preprocessing import StandardScaler\n",
    "\n",
    "def data_cleaning(df, df_name=\"Dataset\"):\n",
    "      print(f\"--- Cleaning {df_name} ---\")\n",
    "\n",
    "      # 1. Drop columns with more than 50% missing values\n",
    "      threshold = 0.5 * len(df)\n",
    "      columns_to_drop = df.columns[df.isnull().sum() > threshold]\n",
    "      df = df.drop(columns=columns_to_drop)\n",
    "      print(f\"Columns {list(columns_to_drop)} dropped due to >50% missing values.\")\n",
    "\n",
    "      # 2. Impute missing values\n",
    "      for col in df.columns:\n",
    "          if df[col].dtype in ['int64', 'float64']:  # Numerical column\n",
    "              df[col].fillna(df[col].median(), inplace=True)\n",
    "          else:  # Categorical column\n",
    "              df[col].fillna(df[col].mode()[0], inplace=True)\n",
    "      print(f\"Imputed missing values in {df_name}.\")\n",
    "\n",
    "      # 3. Outlier detection and handling\n",
    "      numerical_features = df.select_dtypes(include=['int64', 'float64']).columns\n",
    "      for col in numerical_features:\n",
    "          print(df[col].unique())\n",
    "          df[col] = pd.to_numeric(df[col], errors='coerce')\n",
    "          df[col].fillna(0, inplace=True)\n",
    "          Q1 = df[col].quantile(0.25)\n",
    "          Q3 = df[col].quantile(0.75)\n",
    "          IQR = Q3 - Q1\n",
    "          LowerBound = Q1 - 1.5 * IQR\n",
    "          UpperBound = Q3 + 1.5 * IQR\n",
    "          outliers = (df[col] < LowerBound) | (df[col] > UpperBound)\n",
    "          if outliers.any():\n",
    "              df[col] = np.where(outliers, np.nan, df[col])\n",
    "              df[col].fillna(df[col].median(), inplace=True)\n",
    "              print(f\"Replaced outliers with median in column {col}.\")\n",
    "      print(\"end of outliers\")\n",
    "\n",
    "      print(\"Start of high correlation\")\n",
    "      # Keep only numeric columns\n",
    "      numeric_df = df.select_dtypes(include=['number'])\n",
    "\n",
    "      # Check if there are numeric columns to process\n",
    "      if numeric_df.empty:\n",
    "          print(\"No numeric columns found for correlation.\")\n",
    "      else:\n",
    "          # Threshold for high correlation\n",
    "          threshold = 0.8\n",
    "\n",
    "          # Compute correlation matrix\n",
    "          correlation_matrix = numeric_df.corr()\n",
    "\n",
    "          # Find highly correlated pairs\n",
    "          to_drop = set()\n",
    "          for i in range(len(correlation_matrix.columns)):\n",
    "              for j in range(i):\n",
    "                  if abs(correlation_matrix.iloc[i, j]) > threshold:\n",
    "                      colname = correlation_matrix.columns[i]\n",
    "                      to_drop.add(colname)\n",
    "\n",
    "          # Drop identified columns\n",
    "          df.drop(columns=list(to_drop), inplace=True)\n",
    "      print(\"end of high correlation\")\n",
    "\n",
    "      print(\"start of Standardize\")\n",
    "      # 6. Standardize numerical columns\n",
    "      scaler = StandardScaler()\n",
    "      numerical_features = df.select_dtypes(include=['number']).columns\n",
    "      df[numerical_features] = scaler.fit_transform(df[numerical_features])\n",
    "      print(f\"Standardized numerical columns in {df_name}.\")\n",
    "      print(\"end of Standardize\")\n",
    "\n",
    "      print(\"start of categorical\")\n",
    "      # 5. Convert binary categorical columns to 'category' dtype\n",
    "      binary_columns = df.select_dtypes(include=['object']).columns\n",
    "      for col in binary_columns:\n",
    "          if df[col].nunique() <= 2:\n",
    "              df[col] = df[col].astype('category')\n",
    "              print(f\"Converted {col} to 'category' dtype.\")\n",
    "      print(\"end of categorical\")\n",
    "\n",
    "      # 7. One-hot encoding for remaining categorical features\n",
    "      df = pd.get_dummies(df, drop_first=True)\n",
    "      print(f\"Applied one-hot encoding to categorical columns in {df_name}.\")\n",
    "\n",
    "      # 8. Rename columns for consistency\n",
    "      df.columns = [col.replace(\" \", \"_\").lower() for col in df.columns]\n",
    "      print(f\"Renamed columns in {df_name} for consistency.\")\n",
    "\n",
    "      print(\"start of Remove duplicates\")\n",
    "      # 4. Remove duplicates\n",
    "      original_shape = df.shape  # Corrected\n",
    "      df.drop_duplicates(inplace=True)\n",
    "      if original_shape != df.shape:\n",
    "          print(f\"Removed {original_shape[0] - df.shape[0]} duplicate rows.\")\n",
    "      print(\"end of Remove duplicates\")\n",
    "\n",
    "      return df\n"
   ]
  },
  {
   "cell_type": "code",
   "execution_count": null,
   "metadata": {
    "colab": {
     "base_uri": "https://localhost:8080/"
    },
    "id": "8iKNnyR0-1HB",
    "outputId": "cf62c4fd-81c3-44e7-b5e4-3ab8b5f512a9"
   },
   "outputs": [],
   "source": [
    "target=application_train['TARGET']\n",
    "application_train=application_train.drop(columns=['TARGET'])\n",
    "application_train_cleaned=data_cleaning(application_train,df_name=\"Application Data\") # SEPERATING THE TARGET FILE FOR THE\n",
    "application_train_cleaned['TARGET']=target\n"
   ]
  },
  {
   "cell_type": "markdown",
   "metadata": {
    "id": "Hmcvt1-IPKxU"
   },
   "source": [
    "**Clean Data**"
   ]
  },
  {
   "cell_type": "code",
   "execution_count": null,
   "metadata": {
    "colab": {
     "base_uri": "https://localhost:8080/",
     "height": 349
    },
    "id": "9zEHogmv7P61",
    "outputId": "37d52107-e3e6-453d-e35d-6e091cc296b3"
   },
   "outputs": [],
   "source": [
    "application_train_cleaned.describe()\n"
   ]
  },
  {
   "cell_type": "code",
   "execution_count": null,
   "metadata": {
    "colab": {
     "base_uri": "https://localhost:8080/",
     "height": 306
    },
    "id": "P39plBkyY6xD",
    "outputId": "1bc8a1ec-73d7-4e78-ceae-c3433a170e31"
   },
   "outputs": [],
   "source": [
    "bureau_cleaned=data_cleaning(bureau,df_name=\"Bureau Data\")\n"
   ]
  },
  {
   "cell_type": "code",
   "execution_count": null,
   "metadata": {
    "colab": {
     "base_uri": "https://localhost:8080/",
     "height": 320
    },
    "id": "XfwUrP3C8dnI",
    "outputId": "acf798d7-f395-47c5-9ef0-6a8a153578ca"
   },
   "outputs": [],
   "source": [
    "bureau_cleaned.describe()"
   ]
  },
  {
   "cell_type": "code",
   "execution_count": null,
   "metadata": {
    "colab": {
     "base_uri": "https://localhost:8080/"
    },
    "id": "JNzAEiRbN_uS",
    "outputId": "ccefbb00-2e06-4afc-f718-8a6979ef944c"
   },
   "outputs": [],
   "source": [
    "bureau_balance_cleaned=data_cleaning(bureau_balance,df_name=\"Bureau balance Data\")\n"
   ]
  },
  {
   "cell_type": "raw",
   "metadata": {
    "id": "xjpZ5TpCgMv_",
    "outputId": "68e6302a-f4c4-4800-b71d-d44d82ef767c"
   },
   "source": [
    "clear_memory(bureau_balance)\n",
    "print(\"Memory cleared! of bureau_balance\")"
   ]
  },
  {
   "cell_type": "code",
   "execution_count": null,
   "metadata": {
    "colab": {
     "base_uri": "https://localhost:8080/"
    },
    "id": "bD3Od0S1N_xe",
    "outputId": "618c44c7-a3b6-461f-d529-3eccca029514"
   },
   "outputs": [],
   "source": [
    "credit_card_balance_cleaned=data_cleaning(credit_card_balance,df_name=\"Credit card balance\")"
   ]
  },
  {
   "cell_type": "code",
   "execution_count": null,
   "metadata": {
    "colab": {
     "base_uri": "https://localhost:8080/"
    },
    "id": "WJpwMJ7nN_0Z",
    "outputId": "9501e4cf-7af8-4b92-fb3a-4dce480ace94"
   },
   "outputs": [],
   "source": [
    "installments_payments_cleaned=data_cleaning(installments_payments,df_name=\"Installments payments data\")\n"
   ]
  },
  {
   "cell_type": "code",
   "execution_count": null,
   "metadata": {
    "colab": {
     "base_uri": "https://localhost:8080/"
    },
    "id": "Ne0BV1VwN_3R",
    "outputId": "8672c181-da95-408c-e2ef-37c7c0cf154e"
   },
   "outputs": [],
   "source": [
    "POS_CASH_balance_cleaned=data_cleaning(POS_CASH_balance,df_name=\"POS cash balance data\")\n"
   ]
  },
  {
   "cell_type": "code",
   "execution_count": null,
   "metadata": {
    "colab": {
     "base_uri": "https://localhost:8080/"
    },
    "id": "jeey0pJlN_6g",
    "outputId": "0058d0bb-05e2-46b3-d132-f9dbf354346e"
   },
   "outputs": [],
   "source": [
    "previous_application_cleaned=data_cleaning(previous_application,df_name=\"Previous application data\")\n"
   ]
  },
  {
   "cell_type": "raw",
   "metadata": {
    "id": "qkIQRCU9iGZk",
    "outputId": "d594c66e-3f7c-4647-c495-9d45b91efed5"
   },
   "source": []
  },
  {
   "cell_type": "markdown",
   "metadata": {
    "id": "OHTOYU59SWNT"
   },
   "source": [
    "**Finding relationship columns**"
   ]
  },
  {
   "cell_type": "code",
   "execution_count": null,
   "metadata": {
    "colab": {
     "base_uri": "https://localhost:8080/"
    },
    "id": "JheMoUS96Id1",
    "outputId": "8880f697-73d1-4ad5-b724-7b87cb4a61cb"
   },
   "outputs": [],
   "source": [
    "print(\"application_train_cleaned\\n\", application_train_cleaned.columns)\n",
    "print(\"bureau_cleaned.columns\\n\",bureau_cleaned.columns)\n",
    "print(\"bureau_balance_cleaned\\n\",bureau_balance_cleaned.columns)\n",
    "print(\"POS_CASH_balance_cleaned\\n\",POS_CASH_balance_cleaned.columns)\n",
    "print(\"credit_card_balance_cleaned\\n\",credit_card_balance_cleaned.columns)\n",
    "print(\"previous_application_cleaned\\n\",previous_application_cleaned.columns)\n",
    "print(\"installments_payments_cleaned\\n\",installments_payments_cleaned.columns)"
   ]
  },
  {
   "cell_type": "code",
   "execution_count": null,
   "metadata": {
    "colab": {
     "base_uri": "https://localhost:8080/"
    },
    "id": "bZl_FS9qqnie",
    "outputId": "f01dc03a-0b16-4dbf-bf48-eb6901015024"
   },
   "outputs": [],
   "source": [
    "print(f\"Unique sk_id_curr in application_train_cleaned: {application_train_cleaned['sk_id_curr'].nunique()}\")\n",
    "print(f\"Shape of application_train_cleaned: {application_train_cleaned.shape}\")\n",
    "print(f\"Unique sk_id_curr in bureau_cleaned: {bureau_cleaned['sk_id_curr'].nunique()}\")\n",
    "print(f\"Unique sk_id_bureau in bureau_cleaned: {bureau_balance_cleaned['sk_id_bureau'].nunique()}\")\n",
    "print(f\"Unique sk_id_bureau in bureau_balance_cleaned: {bureau_balance_cleaned['sk_id_bureau'].nunique()}\")\n",
    "print(f\"Unique sk_id_prev in previous_application_cleaned: {previous_application_cleaned['sk_id_prev'].nunique()}\")\n",
    "print(f\"Unique sk_id_prev in installments_payments_cleaned: {installments_payments_cleaned['sk_id_prev'].nunique()}\")\n"
   ]
  },
  {
   "cell_type": "markdown",
   "metadata": {
    "id": "Xyf7EilIz3Ik"
   },
   "source": [
    "# **MERGE DATASETS on (sk_id_curr, sk_id_bureau, sk_id_prev)**"
   ]
  },
  {
   "cell_type": "code",
   "execution_count": null,
   "metadata": {
    "colab": {
     "base_uri": "https://localhost:8080/",
     "height": 178
    },
    "id": "gfPE-ilCQh6a",
    "outputId": "4585afa5-314a-4330-af59-114110d926b6"
   },
   "outputs": [],
   "source": [
    "application_train_cleaned.TARGET.value_counts()\n"
   ]
  },
  {
   "cell_type": "code",
   "execution_count": null,
   "metadata": {
    "colab": {
     "base_uri": "https://localhost:8080/"
    },
    "id": "9BMJDzfMrEnP",
    "outputId": "f7c2d5c9-ac25-42dd-b621-bfe861c09cc6"
   },
   "outputs": [],
   "source": [
    "data_1 = application_train_cleaned.merge(bureau_cleaned, on=\"sk_id_curr\", how=\"left\")\n",
    "print(f\"After merging bureau_cleaned: {data_1.shape}\")\n",
    "bureau_cleaned=None\n",
    "application_train_cleaned=None"
   ]
  },
  {
   "cell_type": "code",
   "execution_count": null,
   "metadata": {
    "colab": {
     "base_uri": "https://localhost:8080/"
    },
    "id": "ZPpvauEQrMZi",
    "outputId": "e0d5c987-3cf7-4fec-f1af-18e0a4667926"
   },
   "outputs": [],
   "source": [
    "data_2 = data_1.merge(bureau_balance_cleaned, on=\"sk_id_bureau\", how=\"left\")\n",
    "print(f\"After merging bureau_balance_cleaned: {data_2.shape}\")\n",
    "bureau_balance_cleaned=None\n",
    "data_1=None\n"
   ]
  },
  {
   "cell_type": "code",
   "execution_count": null,
   "metadata": {
    "colab": {
     "base_uri": "https://localhost:8080/"
    },
    "id": "bI1Li1usrh2P",
    "outputId": "31977b9e-9d38-4224-b29c-ce1636d22667"
   },
   "outputs": [],
   "source": [
    "data_3 = data_2.merge(credit_card_balance_cleaned, on=\"sk_id_curr\", how=\"left\")\n",
    "print(f\"After merging credit_card_balance_cleaned: {data_3.shape}\")\n",
    "credit_card_balance_cleaned=None\n",
    "data_2=None"
   ]
  },
  {
   "cell_type": "code",
   "execution_count": null,
   "metadata": {
    "colab": {
     "base_uri": "https://localhost:8080/"
    },
    "id": "_iW3BQLLrnnL",
    "outputId": "2fbedc80-54a7-4352-ce19-f9e2124ff94d"
   },
   "outputs": [],
   "source": [
    "data_4 = data_3.merge(previous_application_cleaned, on=[\"sk_id_curr\", \"sk_id_prev\"], how=\"left\")\n",
    "print(f\"After merging previous_application_cleaned: {data_4.shape}\")\n",
    "previous_application_cleaned=None\n",
    "data_3=None\n"
   ]
  },
  {
   "cell_type": "code",
   "execution_count": null,
   "metadata": {
    "colab": {
     "base_uri": "https://localhost:8080/"
    },
    "id": "wusoqiWPruRZ",
    "outputId": "9423ded1-561e-4df4-dc97-b2071ca0edfa"
   },
   "outputs": [],
   "source": [
    "data_5 = data_4.merge(installments_payments_cleaned, on=[\"sk_id_curr\", \"sk_id_prev\"], how=\"left\")\n",
    "print(f\"After merging installments_payments_cleaned: {data_5.shape}\")\n",
    "installments_payments_cleaned=None\n",
    "data_4=None"
   ]
  },
  {
   "cell_type": "code",
   "execution_count": null,
   "metadata": {
    "colab": {
     "base_uri": "https://localhost:8080/",
     "height": 349
    },
    "id": "oRT7NEEAQOTL",
    "outputId": "17097e6a-9652-4cd7-8035-af35d0da55de"
   },
   "outputs": [],
   "source": [
    "data_5.describe()"
   ]
  },
  {
   "cell_type": "code",
   "execution_count": null,
   "metadata": {
    "id": "8psK3TresXG5"
   },
   "outputs": [],
   "source": [
    "data=data_5"
   ]
  },
  {
   "cell_type": "code",
   "execution_count": null,
   "metadata": {
    "colab": {
     "base_uri": "https://localhost:8080/",
     "height": 255
    },
    "id": "gb4Ji09tr09J",
    "outputId": "0a0702c9-5495-45e6-ce6e-a4158e1f8ef6"
   },
   "outputs": [],
   "source": [
    "data.head()"
   ]
  },
  {
   "cell_type": "code",
   "execution_count": null,
   "metadata": {
    "colab": {
     "base_uri": "https://localhost:8080/"
    },
    "id": "9KmOAWk-XVrx",
    "outputId": "f3241c05-581f-4337-ed7e-0b1efe18b4ce"
   },
   "outputs": [],
   "source": [
    "data.info()"
   ]
  },
  {
   "cell_type": "code",
   "execution_count": null,
   "metadata": {
    "colab": {
     "base_uri": "https://localhost:8080/"
    },
    "id": "N3JLLOwUscBF",
    "outputId": "4c9ab8c2-aea8-4fee-f210-3f1c016fd817"
   },
   "outputs": [],
   "source": [
    "print(data.shape)"
   ]
  },
  {
   "cell_type": "code",
   "execution_count": null,
   "metadata": {
    "colab": {
     "base_uri": "https://localhost:8080/"
    },
    "id": "f3VdH2wl1780",
    "outputId": "910f5dd4-33a5-42f4-92a2-7bace62e011c"
   },
   "outputs": [],
   "source": [
    "print(data.columns)"
   ]
  },
  {
   "cell_type": "code",
   "execution_count": null,
   "metadata": {
    "colab": {
     "base_uri": "https://localhost:8080/",
     "height": 349
    },
    "id": "Q0jdLvotCkF5",
    "outputId": "709c6f63-0bba-4f06-8555-c88dd1ad93c6"
   },
   "outputs": [],
   "source": [
    "data.describe()"
   ]
  },
  {
   "cell_type": "code",
   "execution_count": null,
   "metadata": {
    "colab": {
     "base_uri": "https://localhost:8080/",
     "height": 178
    },
    "id": "Z0C-RSb1QD8f",
    "outputId": "a26ecbd1-2501-48d0-8a3a-e943372cc2eb"
   },
   "outputs": [],
   "source": [
    "data.TARGET.value_counts()"
   ]
  },
  {
   "cell_type": "code",
   "execution_count": null,
   "metadata": {
    "id": "5pdjJ86z_rR3"
   },
   "outputs": [],
   "source": [
    "import pandas as pd\n",
    "from statsmodels.stats.outliers_influence import variance_inflation_factor\n",
    "from sklearn.feature_selection import VarianceThreshold\n",
    "\n",
    "# Removing the TARGET column\n",
    "features = data.drop(columns=['TARGET'])\n",
    "\n",
    "# Removing low-variance features\n",
    "variance_filter = VarianceThreshold(threshold=0.01)\n",
    "high_variance_features = variance_filter.fit_transform(features.select_dtypes(include=['float64', 'int64']))\n",
    "selected_columns = features.columns[variance_filter.get_support(indices=True)]\n",
    "filtered_data = features.loc[:, selected_columns]\n",
    "\n",
    "# Calculate VIF\n",
    "vif_data = pd.DataFrame()\n",
    "vif_data[\"Feature\"] = filtered_data.columns\n",
    "vif_data[\"VIF\"] = [\n",
    "    variance_inflation_factor(filtered_data.values, i) for i in range(filtered_data.shape[1])\n",
    "]\n"
   ]
  },
  {
   "cell_type": "code",
   "execution_count": null,
   "metadata": {
    "id": "WVD-3AKA2HnN"
   },
   "outputs": [],
   "source": [
    "variance_filter=None\n",
    "high_variance_features=None\n",
    "selected_columns=None\n",
    "vif_data=None\n",
    "features=None\n",
    "data=None"
   ]
  },
  {
   "cell_type": "code",
   "execution_count": null,
   "metadata": {
    "colab": {
     "base_uri": "https://localhost:8080/",
     "height": 178
    },
    "id": "U1oM5CCzRRh-",
    "outputId": "f8d63796-32f6-4543-e274-0486caaca8ba"
   },
   "outputs": [],
   "source": [
    "target.value_counts()"
   ]
  },
  {
   "cell_type": "code",
   "execution_count": null,
   "metadata": {
    "id": "weHg6haj2ArV"
   },
   "outputs": [],
   "source": []
  },
  {
   "cell_type": "code",
   "execution_count": null,
   "metadata": {
    "id": "q0dl9O_618dz"
   },
   "outputs": [],
   "source": [
    " #Train-Test Split\n",
    "#X = data.drop(columns=['TARGET', 'SK_ID_CURR'])\n",
    "#y = data['TARGET']\n",
    "X = filtered_data.drop(columns=['sk_id_curr'])\n",
    "y=target\n",
    "X_train, X_test, y_train, y_test = train_test_split(X, y, test_size=0.3, random_state=42)"
   ]
  },
  {
   "cell_type": "raw",
   "metadata": {
    "id": "TLhL0euZ2phl",
    "outputId": "46ad07d2-847f-4131-9102-2406345f7dde"
   },
   "source": [
    "#filtered_data=None\n",
    "gc.collect()"
   ]
  },
  {
   "cell_type": "code",
   "execution_count": null,
   "metadata": {
    "id": "aF_a8chL18ip"
   },
   "outputs": [],
   "source": [
    "from imblearn.over_sampling import SMOTE\n",
    "smote = SMOTE(random_state=42)\n",
    "X_train, y_train = smote.fit_resample(X_train, y_train)"
   ]
  },
  {
   "cell_type": "code",
   "execution_count": null,
   "metadata": {
    "id": "FoZS0NFI18lm"
   },
   "outputs": [],
   "source": [
    "# Define Model Evaluation Function\n",
    "from sklearn.metrics import classification_report\n",
    "\n",
    "# Updated Model Evaluation Function\n",
    "def evaluate_model(model, X_train, X_test, y_train, y_test, model_name=\"Model\"):\n",
    "\n",
    "    model.fit(X_train, y_train)\n",
    "    y_pred = model.predict(X_test)\n",
    "    gc.collect()\n",
    "    print(f\"\\n{model_name} Classification Report:\")\n",
    "    print(classification_report(y_test, y_pred, target_names=[\"Not Default\", \"Default\"]))\n",
    "\n",
    "    # Confusion Matrix\n",
    "    conf_matrix = confusion_matrix(y_test, y_pred)\n",
    "    sns.heatmap(conf_matrix, annot=True, fmt=\"d\", cmap=\"Blues\")\n",
    "    plt.title(f\"{model_name} Confusion Matrix\")\n",
    "    plt.xlabel(\"Predicted Label\")\n",
    "    plt.ylabel(\"True Label\")\n",
    "    plt.show()\n",
    "\n",
    "    return model"
   ]
  },
  {
   "cell_type": "code",
   "execution_count": null,
   "metadata": {
    "id": "HDTMOQlO18oc"
   },
   "outputs": [],
   "source": [
    "#Hyperparameter Tuning Function\n",
    "from sklearn.model_selection import RandomizedSearchCV\n",
    "\n",
    "def hyperparameter_tuning(model, param_distributions, X_train, y_train, n_iter=50, cv=5, scoring='f1'):\n",
    "    \"\"\"\n",
    "    Perform hyperparameter tuning using RandomizedSearchCV.\n",
    "\n",
    "    Args:\n",
    "        model: The machine learning model to be tuned.\n",
    "        param_distributions: Dictionary with parameters to sample during tuning.\n",
    "        X_train: Training features.\n",
    "        y_train: Training target.\n",
    "        n_iter: Number of parameter settings to sample (default is 50).\n",
    "        cv: Number of cross-validation folds (default is 5).\n",
    "        scoring: Scoring metric for evaluation (default is 'f1').\n",
    "\n",
    "    Returns:\n",
    "        best_model: The best estimator after hyperparameter tuning.\n",
    "    \"\"\"\n",
    "\n",
    "    random_search = RandomizedSearchCV(\n",
    "        estimator=model,\n",
    "        param_distributions=param_distributions,\n",
    "        n_iter=n_iter,\n",
    "        cv=cv,\n",
    "        scoring=scoring,\n",
    "        n_jobs=-1,\n",
    "        verbose=1,\n",
    "        random_state=42  # For reproducibility\n",
    "    )\n",
    "\n",
    "    random_search.fit(X_train, y_train)\n",
    "    print(\"Best Hyperparameters:\", random_search.best_params_)\n",
    "    best_model = random_search.best_estimator_\n",
    "    return best_model\n"
   ]
  },
  {
   "cell_type": "markdown",
   "metadata": {
    "id": "YxBVTtPhgzS8"
   },
   "source": [
    "# DECISION TREE"
   ]
  },
  {
   "cell_type": "code",
   "execution_count": null,
   "metadata": {
    "colab": {
     "base_uri": "https://localhost:8080/",
     "height": 788
    },
    "id": "pnIvxYak18rX",
    "outputId": "14538d6c-d3fc-4d7a-863f-51cdd321a0a6"
   },
   "outputs": [],
   "source": [
    " #1. Decision Tree\n",
    " dt_param_grid = {\n",
    "     #'max_depth': [5, 10, 15, 20, None],\n",
    "     'max_depth': [5],\n",
    "     'min_samples_split': [2, 5, 10],\n",
    "     'min_samples_leaf': [1, 2, 4],\n",
    "     'criterion': ['gini', 'entropy']\n",
    " }\n",
    "\n",
    " dt_model = DecisionTreeClassifier(random_state=42)\n",
    " best_dt_model = hyperparameter_tuning(dt_model, dt_param_grid, X_train, y_train)\n",
    " evaluate_model(best_dt_model, X_train, X_test, y_train, y_test, model_name=\"Tuned Decision Tree\")\n"
   ]
  },
  {
   "cell_type": "markdown",
   "metadata": {
    "id": "6jJbSsu23T8M",
    "outputId": "3b36c068-92bf-4576-f044-689ce21e18b3"
   },
   "source": [
    "# LOGISTIC REGRESSION"
   ]
  },
  {
   "cell_type": "code",
   "execution_count": null,
   "metadata": {
    "colab": {
     "base_uri": "https://localhost:8080/",
     "height": 768
    },
    "id": "7h1OKi4f358N",
    "outputId": "a9325161-e8ca-4d23-98f2-9b00f0b2093c"
   },
   "outputs": [],
   "source": [
    "from sklearn.linear_model import LogisticRegression\n",
    "# 2. Logistic Regression\n",
    "# Define the parameter grid for Logistic Regression\n",
    "lr_param_grid = {\n",
    "    'penalty': ['l1', 'l2', 'elasticnet', None],  # Regularization type\n",
    "    'C': [0.01, 0.1, 1, 10, 100],               # Regularization strength\n",
    "    'solver': ['liblinear', 'saga'],            # Solvers that support l1 and elasticnet\n",
    "    'max_iter': [100, 200, 500]                 # Number of iterations\n",
    "}\n",
    "\n",
    "# Instantiate the Logistic Regression model\n",
    "lr_model = LogisticRegression(random_state=42)\n",
    "\n",
    "# Perform hyperparameter tuning using the defined function\n",
    "best_lr_model = hyperparameter_tuning(lr_model, lr_param_grid, X_train, y_train, n_iter=20, scoring='f1')\n",
    "\n",
    "# Evaluate the tuned Logistic Regression model\n",
    "evaluate_model(best_lr_model, X_train, X_test, y_train, y_test, model_name=\"Tuned Logistic Regression\")\n"
   ]
  },
  {
   "cell_type": "markdown",
   "metadata": {
    "id": "vUrjyRcSgzS9"
   },
   "source": [
    "# XGBOOSTING"
   ]
  },
  {
   "cell_type": "code",
   "execution_count": null,
   "metadata": {
    "colab": {
     "base_uri": "https://localhost:8080/",
     "height": 961
    },
    "id": "0mX-VVZH18zr",
    "outputId": "797c479c-cdba-4129-e8f1-ed36e744a332"
   },
   "outputs": [],
   "source": [
    "\n",
    "# 5. XGBoost\n",
    "xgb_param_grid = {\n",
    "    'n_estimators': [100, 200],\n",
    "    'learning_rate': [0.01, 0.1],\n",
    "    'max_depth': [3, 5],\n",
    "    'subsample': [0.8, 1.0],\n",
    "    'colsample_bytree': [0.8, 1.0]\n",
    "}\n",
    "xgb_model = XGBClassifier(use_label_encoder=False, eval_metric='logloss', random_state=42)\n",
    "best_xgb_model = hyperparameter_tuning(xgb_model, xgb_param_grid, X_train, y_train)\n",
    "evaluate_model(best_xgb_model, X_train, X_test, y_train, y_test, model_name=\"Tuned XGBoost\")"
   ]
  },
  {
   "cell_type": "markdown",
   "metadata": {
    "id": "OJlHpwkcgzS-"
   },
   "source": [
    "# LIGHT GRADIENT BOOSITNG"
   ]
  },
  {
   "cell_type": "code",
   "execution_count": null,
   "metadata": {
    "id": "fwizvMXD182X",
    "outputId": "955509e3-0c52-4c6f-8018-d3451b7581f7"
   },
   "outputs": [],
   "source": [
    "from sklearn.metrics import accuracy_score, precision_score, recall_score, f1_score, roc_auc_score, confusion_matrix, classification_report\n",
    "\n",
    "from lightgbm import LGBMClassifier\n",
    "Lgbmc=LGBMClassifier()\n",
    "Lgbmc.fit( X_train,y_train)\n",
    "ypred=Lgbmc.predict(X_test)\n",
    "acccuracy=accuracy_score(ypred,y_test)\n",
    "acccuracy   # LGBM BOOSTING IS GIVING GOOD ACCURACY"
   ]
  },
  {
   "cell_type": "markdown",
   "metadata": {
    "id": "HaGlyBIugzS-"
   },
   "source": [
    "# RANDOM FOREST CLASSIFIER"
   ]
  },
  {
   "cell_type": "code",
   "execution_count": null,
   "metadata": {
    "id": "53NYCcFSgzS_",
    "outputId": "8db01efd-3775-4631-c0cb-587359277e4b"
   },
   "outputs": [],
   "source": [
    "from sklearn.ensemble import RandomForestClassifier\n",
    "\n",
    "RFC = RandomForestClassifier()\n",
    "RFC.fit(X_train,y_train)\n",
    "y_pred=RFC.predict(X_test)\n",
    "accuracy=accuracy_score(y_pred,y_test)\n",
    "accuracy"
   ]
  },
  {
   "cell_type": "markdown",
   "metadata": {
    "id": "xGFkK5HTgzS_"
   },
   "source": [
    "# SUPPORT VECTOR CLASSIFIER"
   ]
  },
  {
   "cell_type": "code",
   "execution_count": null,
   "metadata": {
    "id": "qAYopmQ9gzS_",
    "outputId": "8c5307e8-7e0a-4077-9351-32cf47b41993"
   },
   "outputs": [],
   "source": [
    "from sklearn.svm import SVC\n",
    "model = SVC(kernel='rbf', C=1.0, gamma='scale', random_state=42,max_iter=50)  # Using RBF kernel\n",
    "model.fit(X_train, y_train)\n",
    "\n",
    "sy_pred=model.predict(X_test)\n",
    "accuracy=accuracy_score(sy_pred,y_test)\n",
    "accuracy"
   ]
  },
  {
   "cell_type": "markdown",
   "metadata": {
    "id": "5hzHcrAIgzTA"
   },
   "source": [
    "# Project Submission: Machine Learning Model Evaluation for HomeLoanDef Dataset\n",
    "\n",
    "**Objective:** To evaluate and identify the best-performing machine learning model for predicting loan defaults using the provided HomeLoanDef dataset.\n",
    "\n",
    "**Models Evaluated:**\n",
    "1.   Support Vector Classifier (SVC)\n",
    "2.   Random Forest Classifier (RFC)\n",
    "3.   Light Gradient Boosting Machine (LGBM)\n",
    "4.   XGBoost Classifier - Accracy\n",
    "5.   Logistic Regression (LR)\n",
    "6.   Decision Tree Classifier (DTC) - Accuracy\n",
    "\n",
    "**Analysis:**\n",
    "*   Among all models, ***Light Gradient Boosting Machine (LGBM) and XGBoost Classifier achieved the highest accuracy***\n",
    "*   Both models demonstrate superior performance, outperforming others in handling the complexity of the dataset.\n",
    "*   Logistic Regression and Decision Tree models had the lowest accuracies, indicating they are less suited for this problem.\n",
    "*   Random Forest and Support Vector Classifier models performed competitively but fell slightly short of the top performers.\n",
    "\n",
    "**Conclusion:**\n",
    "\n",
    "Based on the accuracy metric:\n",
    "\n",
    "*   Light Gradient Boosting Machine (LGBM) and XGBoost Classifier are equally effective for the HomeLoanDef dataset.\n",
    "*   Both models are recommended for deployment, considering their high accuracy and efficiency.\n",
    "\n",
    "\n",
    "\n",
    "\n",
    "\n"
   ]
  }
 ],
 "metadata": {
  "colab": {
   "provenance": []
  },
  "kernelspec": {
   "display_name": "Python 3 (ipykernel)",
   "language": "python",
   "name": "python3"
  },
  "language_info": {
   "codemirror_mode": {
    "name": "ipython",
    "version": 3
   },
   "file_extension": ".py",
   "mimetype": "text/x-python",
   "name": "python",
   "nbconvert_exporter": "python",
   "pygments_lexer": "ipython3",
   "version": "3.12.7"
  }
 },
 "nbformat": 4,
 "nbformat_minor": 4
}
